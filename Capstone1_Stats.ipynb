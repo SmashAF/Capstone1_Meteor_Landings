{
 "cells": [
  {
   "cell_type": "markdown",
   "metadata": {},
   "source": [
    "Of the documented meteorites, most have landed in Antarctica, after reviewing the data I estimate the following:    \n",
    "      \n",
    "probability of a meteor will land in Antarctica is .748     \n",
    "     \n",
    "      \n",
    "## Hypothesis Test 1          \n",
    "\n",
    "      \n",
    "Data:     \n",
    " Africa           2351     \n",
    " Antarcitica     21325      \n",
    " Australia         383       \n",
    " Blacksite        1648     \n",
    " China              41     \n",
    " Europe             72     \n",
    " India              18     \n",
    " Japan              12     \n",
    " Middle East      1579     \n",
    " New Zealand         1   \n",
    " SouthAmerica      405   \n",
    " USA               684   \n",
    "    \n",
    "Total: 28519   \n",
    "    \n",
    "let p = P(meteor lands in Antarctica) = 21325/observed   =  75%    \n",
    "Null  = >= 75%    \n",
    "Alternate = < 75%   \n",
    "      \n",
    "    \n",
    "standard deviation (how widely elements of a group vary)     \n",
    "P = hypothesized value of population proportion    "
   ]
  },
  {
   "cell_type": "code",
   "execution_count": 2,
   "metadata": {},
   "outputs": [],
   "source": [
    "from scipy import stats\n",
    "import numpy as np\n",
    "import matplotlib.pyplot as plt\n"
   ]
  },
  {
   "cell_type": "code",
   "execution_count": 3,
   "metadata": {},
   "outputs": [],
   "source": [
    "\n",
    "alpha = 0.05\n",
    "P = .75  # hypothesized population prob Antarctica\n",
    "p = 0.748 # sample population prob Antarctica\n",
    "n = 28519 \n",
    "stdev = np.sqrt(P *(1-P)/n) # 0.002564091325506438\n",
    "\n",
    "z =(p-P)/stdev # -0.780003418795927\n",
    "\n",
    "normal_approx = stats.norm()\n"
   ]
  },
  {
   "cell_type": "code",
   "execution_count": 4,
   "metadata": {},
   "outputs": [
    {
     "data": {
      "text/plain": [
       "(0.002564091325506438, -0.780003418795927)"
      ]
     },
     "execution_count": 4,
     "metadata": {},
     "output_type": "execute_result"
    }
   ],
   "source": [
    "stdev, z"
   ]
  },
  {
   "cell_type": "markdown",
   "metadata": {},
   "source": [
    "## Hypothesis  \n",
    "\n",
    "Most reported meteors from the dataset seem to be in Antarctica. \n",
    "       \n",
    "H0 : Given a meteroite is headed towards Antactica, it is just as likely the meteor will be a type 'H4' as it would an 'H6'     \n",
    "       \n",
    "H1: Given a meteroite is headed towards Antactica, the likelihood of it being a type 'H4' is not the same as being an 'H6'\n",
    "\n",
    "alpha = .05\n",
    "     \n",
    "total samps =  25138        \n",
    "         \n",
    "recclass       \n",
    "H4               3094     \n",
    "H6               2853      \n",
    "            \n"
   ]
  },
  {
   "source": [
    "'''\n",
    "\n",
    "Ho: P1 = P2\n",
    "Ha: P1 ≠ P2\n",
    "\n",
    "p = (p1 * n1 + p2 * n2) / (n1 + n2)  pooled sample proportion\n",
    "\n",
    "SE = sqrt{ p * ( 1 - p ) * [ (1/n1) + (1/n2) ] }  standard error\n",
    "\n",
    "z = (p1 - p2) / SE  test statistic\n",
    "'''\n",
    "pH4 = 3094/25138\n",
    "pH6 = 2853/25138\n",
    "n =25138\n",
    "\n",
    "P = ((3094/25138) * 25138 + (2853/25138) * 25138)/(25138 + 25138)\n",
    "\n",
    "SE = np.sqrt(p * (1-p) * ((1/n) + (1/n)))\n",
    "\n",
    "z = (pH4 - pH6) / SE # 2.475629302178118\n",
    "\n",
    "ps = stats.norm(z)\n",
    "\n",
    "pscore = 0.013301 # I will reject the null hypothesis and accept the alternative"
   ],
   "cell_type": "markdown",
   "metadata": {}
  },
  {
   "cell_type": "code",
   "execution_count": 8,
   "metadata": {},
   "outputs": [
    {
     "data": {
      "text/plain": [
       "0.0066500795880767875"
      ]
     },
     "execution_count": 8,
     "metadata": {},
     "output_type": "execute_result"
    }
   ],
   "source": [
    "ps = stats.norm().sf(z)\n",
    "ps"
   ]
  },
  {
   "cell_type": "code",
   "execution_count": null,
   "metadata": {},
   "outputs": [],
   "source": []
  }
 ],
 "metadata": {
  "kernelspec": {
   "display_name": "Python 3",
   "language": "python",
   "name": "python3"
  },
  "language_info": {
   "codemirror_mode": {
    "name": "ipython",
    "version": 3
   },
   "file_extension": ".py",
   "mimetype": "text/x-python",
   "name": "python",
   "nbconvert_exporter": "python",
   "pygments_lexer": "ipython3",
   "version": "3.9.4"
  }
 },
 "nbformat": 4,
 "nbformat_minor": 4
}